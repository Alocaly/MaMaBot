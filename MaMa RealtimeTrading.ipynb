{
 "cells": [
  {
   "cell_type": "markdown",
   "metadata": {},
   "source": [
    "# Market Maker, real trading\n",
    "Press 'i' twice to interrupt and stop the bot"
   ]
  },
  {
   "cell_type": "code",
   "execution_count": 33,
   "metadata": {},
   "outputs": [],
   "source": [
    "%run \"MarketMaker Engine.ipynb\""
   ]
  },
  {
   "cell_type": "code",
   "execution_count": 34,
   "metadata": {},
   "outputs": [],
   "source": [
    "engine = realTimeEngine()"
   ]
  },
  {
   "cell_type": "code",
   "execution_count": null,
   "metadata": {
    "scrolled": false
   },
   "outputs": [
    {
     "name": "stdout",
     "output_type": "stream",
     "text": [
      "\u001b[30m25-08-2018 20:10:50 - Starting the bot...\u001b[0m\n",
      "\u001b[30m25-08-2018 20:10:50 - current close : 0.00268100 - nb active Buy : 0 - nb active Sell 0 - nb completed Buy : 0 - nb completed Sell 0\u001b[0m\n",
      "\u001b[32m25-08-2018 20:10:50 - putting buy order for 8.20589332 at price 0.00266760 \u001b[0m\n",
      "\u001b[30m25-08-2018 20:11:51 - current close : 0.00268600 - nb active Buy : 1 - nb active Sell 0 - nb completed Buy : 0 - nb completed Sell 0\u001b[0m\n",
      "\u001b[30m25-08-2018 20:11:52 - AssetPrice:0.00268600-OrderPrice : 0.00266760-limitPrice:0.00265914\u001b[0m\n",
      "\u001b[30m25-08-2018 20:12:52 - current close : 0.00268800 - nb active Buy : 1 - nb active Sell 0 - nb completed Buy : 0 - nb completed Sell 0\u001b[0m\n",
      "\u001b[30m25-08-2018 20:12:53 - AssetPrice:0.00268800-OrderPrice : 0.00266760-limitPrice:0.00266112\u001b[0m\n",
      "\u001b[30m25-08-2018 20:13:53 - current close : 0.00268900 - nb active Buy : 1 - nb active Sell 0 - nb completed Buy : 0 - nb completed Sell 0\u001b[0m\n",
      "\u001b[30m25-08-2018 20:13:53 - AssetPrice:0.00268900-OrderPrice : 0.00266760-limitPrice:0.00266211\u001b[0m\n",
      "\u001b[30m25-08-2018 20:14:54 - current close : 0.00268650 - nb active Buy : 1 - nb active Sell 0 - nb completed Buy : 0 - nb completed Sell 0\u001b[0m\n",
      "\u001b[30m25-08-2018 20:14:54 - AssetPrice:0.00268650-OrderPrice : 0.00266760-limitPrice:0.00265963\u001b[0m\n",
      "\u001b[30m25-08-2018 20:15:55 - current close : 0.00268750 - nb active Buy : 1 - nb active Sell 0 - nb completed Buy : 0 - nb completed Sell 0\u001b[0m\n",
      "\u001b[30m25-08-2018 20:15:55 - AssetPrice:0.00268750-OrderPrice : 0.00266760-limitPrice:0.00266062\u001b[0m\n",
      "\u001b[30m25-08-2018 20:16:55 - current close : 0.00268750 - nb active Buy : 1 - nb active Sell 0 - nb completed Buy : 0 - nb completed Sell 0\u001b[0m\n",
      "\u001b[30m25-08-2018 20:16:56 - AssetPrice:0.00268750-OrderPrice : 0.00266760-limitPrice:0.00266062\u001b[0m\n",
      "\u001b[30m25-08-2018 20:17:57 - current close : 0.00268650 - nb active Buy : 1 - nb active Sell 0 - nb completed Buy : 0 - nb completed Sell 0\u001b[0m\n",
      "\u001b[30m25-08-2018 20:17:57 - AssetPrice:0.00268650-OrderPrice : 0.00266760-limitPrice:0.00265963\u001b[0m\n",
      "\u001b[30m25-08-2018 20:18:58 - current close : 0.00268600 - nb active Buy : 1 - nb active Sell 0 - nb completed Buy : 0 - nb completed Sell 0\u001b[0m\n",
      "\u001b[30m25-08-2018 20:18:59 - AssetPrice:0.00268600-OrderPrice : 0.00266760-limitPrice:0.00265914\u001b[0m\n",
      "\u001b[30m25-08-2018 20:20:00 - current close : 0.00268550 - nb active Buy : 1 - nb active Sell 0 - nb completed Buy : 0 - nb completed Sell 0\u001b[0m\n",
      "\u001b[30m25-08-2018 20:20:00 - AssetPrice:0.00268550-OrderPrice : 0.00266760-limitPrice:0.00265864\u001b[0m\n",
      "\u001b[30m25-08-2018 20:21:00 - current close : 0.00268600 - nb active Buy : 1 - nb active Sell 0 - nb completed Buy : 0 - nb completed Sell 0\u001b[0m\n",
      "\u001b[30m25-08-2018 20:21:01 - AssetPrice:0.00268600-OrderPrice : 0.00266760-limitPrice:0.00265914\u001b[0m\n"
     ]
    }
   ],
   "source": [
    "engine.reset()\n",
    "Toto = MarketMaker( \"ICX/ETH\", 0.01, 5, engine)\n",
    "Toto.run()"
   ]
  }
 ],
 "metadata": {
  "kernelspec": {
   "display_name": "Python [conda env:backtrader]",
   "language": "python",
   "name": "conda-env-backtrader-py"
  },
  "language_info": {
   "codemirror_mode": {
    "name": "ipython",
    "version": 3
   },
   "file_extension": ".py",
   "mimetype": "text/x-python",
   "name": "python",
   "nbconvert_exporter": "python",
   "pygments_lexer": "ipython3",
   "version": "3.6.6"
  }
 },
 "nbformat": 4,
 "nbformat_minor": 2
}
