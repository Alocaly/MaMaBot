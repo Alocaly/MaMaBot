{
 "cells": [
  {
   "cell_type": "markdown",
   "metadata": {},
   "source": [
    "# Market Maker, Paper trading\n",
    "Press 'i' twice to interrupt and stop the bot"
   ]
  },
  {
   "cell_type": "code",
   "execution_count": 2,
   "metadata": {},
   "outputs": [],
   "source": [
    "%run \"MarketMaker Engine.ipynb\""
   ]
  },
  {
   "cell_type": "code",
   "execution_count": 3,
   "metadata": {},
   "outputs": [],
   "source": [
    "engine = realTimePaperEngine()"
   ]
  },
  {
   "cell_type": "code",
   "execution_count": 4,
   "metadata": {
    "scrolled": false
   },
   "outputs": [
    {
     "name": "stdout",
     "output_type": "stream",
     "text": [
      "\u001b[30m25-08-2018 20:27:14 - Starting the bot...\u001b[0m\n",
      "\u001b[30m25-08-2018 20:27:15 - current close : 0.00267400 - nb active Buy : 0 - nb active Sell 0 - nb completed Buy : 0 - nb completed Sell 0\u001b[0m\n",
      "\u001b[32m25-08-2018 20:27:15 - putting buy order for 8.22737472 at price 0.00266063 \u001b[0m\n",
      "\u001b[30m25-08-2018 20:28:16 - current close : 0.00267400 - nb active Buy : 1 - nb active Sell 0 - nb completed Buy : 0 - nb completed Sell 0\u001b[0m\n",
      "\u001b[30m25-08-2018 20:28:16 - AssetPrice:0.00267400-OrderPrice : 0.00266063-limitPrice:0.00264726\u001b[0m\n",
      "\u001b[30m25-08-2018 20:29:16 - current close : 0.00264500 - nb active Buy : 1 - nb active Sell 0 - nb completed Buy : 0 - nb completed Sell 0\u001b[0m\n",
      "\u001b[32m25-08-2018 20:29:16 - *** buy order completed for 8.22737472 at price 0.00266063 \u001b[0m\n",
      "\u001b[34m25-08-2018 20:29:16 - ----> Wallet->Quote: 0.97811000 - Asset: 8.22737472 - availAsset: 8.22737472 - Total: 0.99987141\u001b[0m\n",
      "\u001b[34m25-08-2018 20:29:16 - ----> Wallet->Fee: 0.00001642 - gain: -0.00012859 - gain after fee: -0.00014501\u001b[0m\n",
      "\u001b[31m25-08-2018 20:29:16 - putting sell order for 8.22737472 at price 0.00267393 \u001b[0m\n",
      "\u001b[32m25-08-2018 20:29:16 - putting buy order for 8.31758034 at price 0.00263178 \u001b[0m\n",
      "\u001b[30m25-08-2018 20:29:16 - AssetPrice:0.00264500-OrderPrice : 0.00263178-limitPrice:0.00261855\u001b[0m\n",
      "\u001b[30m25-08-2018 20:30:17 - current close : 0.00263000 - nb active Buy : 1 - nb active Sell 1 - nb completed Buy : 1 - nb completed Sell 0\u001b[0m\n",
      "\u001b[32m25-08-2018 20:30:17 - *** buy order completed for 8.31758034 at price 0.00263178 \u001b[0m\n",
      "\u001b[34m25-08-2018 20:30:17 - ----> Wallet->Quote: 0.95622000 - Asset: 16.54495506 - availAsset: 8.31758034 - Total: 0.99973323\u001b[0m\n",
      "\u001b[34m25-08-2018 20:30:17 - ----> Wallet->Fee: 0.00003283 - gain: -0.00026677 - gain after fee: -0.00029960\u001b[0m\n",
      "\u001b[31m25-08-2018 20:30:17 - putting sell order for 8.31758034 at price 0.00264493 \u001b[0m\n",
      "\u001b[32m25-08-2018 20:30:17 - putting buy order for 8.36501901 at price 0.00261685 \u001b[0m\n",
      "\u001b[30m25-08-2018 20:30:17 - AssetPrice:0.00263000-OrderPrice : 0.00261685-limitPrice:0.00260370\u001b[0m\n",
      "\u001b[30m25-08-2018 20:31:17 - current close : 0.00263000 - nb active Buy : 1 - nb active Sell 2 - nb completed Buy : 2 - nb completed Sell 0\u001b[0m\n",
      "\u001b[30m25-08-2018 20:31:17 - AssetPrice:0.00263000-OrderPrice : 0.00261685-limitPrice:0.00260370\u001b[0m\n",
      "\u001b[30m25-08-2018 20:32:17 - current close : 0.00263200 - nb active Buy : 1 - nb active Sell 2 - nb completed Buy : 2 - nb completed Sell 0\u001b[0m\n",
      "\u001b[30m25-08-2018 20:32:17 - AssetPrice:0.00263200-OrderPrice : 0.00261685-limitPrice:0.00260568\u001b[0m\n",
      "\u001b[30m25-08-2018 20:33:18 - current close : 0.00262900 - nb active Buy : 1 - nb active Sell 2 - nb completed Buy : 2 - nb completed Sell 0\u001b[0m\n",
      "\u001b[30m25-08-2018 20:33:18 - AssetPrice:0.00262900-OrderPrice : 0.00261685-limitPrice:0.00260271\u001b[0m\n",
      "\u001b[30m25-08-2018 20:34:18 - current close : 0.00264100 - nb active Buy : 1 - nb active Sell 2 - nb completed Buy : 2 - nb completed Sell 0\u001b[0m\n",
      "\u001b[30m25-08-2018 20:34:18 - AssetPrice:0.00264100-OrderPrice : 0.00261685-limitPrice:0.00261459\u001b[0m\n",
      "\u001b[30m25-08-2018 20:35:18 - current close : 0.00265600 - nb active Buy : 1 - nb active Sell 2 - nb completed Buy : 2 - nb completed Sell 0\u001b[0m\n",
      "\u001b[31m25-08-2018 20:35:18 - *** sell order completed for 8.31758034 at price 0.00264493 \u001b[0m\n",
      "\u001b[34m25-08-2018 20:35:18 - ----> Wallet->Quote: 0.97821945 - Asset: 8.22737472 - availAsset: 0.00000000 - Total: 1.00007136\u001b[0m\n",
      "\u001b[34m25-08-2018 20:35:18 - ----> Wallet->Fee: 0.00004933 - gain: 0.00007136 - gain after fee: 0.00002202\u001b[0m\n",
      "\u001b[30m25-08-2018 20:35:18 - canceling buy order for 8.36501901 at price 0.00261685 \u001b[0m\n",
      "\u001b[32m25-08-2018 20:35:18 - putting buy order for 8.28313253 at price 0.00264272 \u001b[0m\n",
      "\u001b[30m25-08-2018 20:35:18 - AssetPrice:0.00265600-OrderPrice : 0.00264272-limitPrice:0.00262944\u001b[0m\n",
      "\u001b[30m25-08-2018 20:36:19 - current close : 0.00264600 - nb active Buy : 1 - nb active Sell 1 - nb completed Buy : 2 - nb completed Sell 1\u001b[0m\n",
      "\u001b[30m25-08-2018 20:36:19 - AssetPrice:0.00264600-OrderPrice : 0.00264272-limitPrice:0.00261954\u001b[0m\n",
      "\u001b[30m25-08-2018 20:37:19 - current close : 0.00264000 - nb active Buy : 1 - nb active Sell 1 - nb completed Buy : 2 - nb completed Sell 1\u001b[0m\n",
      "\u001b[32m25-08-2018 20:37:19 - *** buy order completed for 8.28313253 at price 0.00264272 \u001b[0m\n",
      "\u001b[34m25-08-2018 20:37:19 - ----> Wallet->Quote: 0.95632945 - Asset: 16.51050725 - availAsset: 8.28313253 - Total: 0.99991719\u001b[0m\n",
      "\u001b[34m25-08-2018 20:37:19 - ----> Wallet->Fee: 0.00006575 - gain: -0.00008281 - gain after fee: -0.00014856\u001b[0m\n",
      "\u001b[31m25-08-2018 20:37:19 - putting sell order for 8.28313253 at price 0.00265593 \u001b[0m\n",
      "\u001b[32m25-08-2018 20:37:19 - putting buy order for 8.33333333 at price 0.00262680 \u001b[0m\n",
      "\u001b[30m25-08-2018 20:37:19 - AssetPrice:0.00264000-OrderPrice : 0.00262680-limitPrice:0.00261360\u001b[0m\n",
      "\u001b[30m25-08-2018 20:38:19 - current close : 0.00262800 - nb active Buy : 1 - nb active Sell 2 - nb completed Buy : 3 - nb completed Sell 1\u001b[0m\n",
      "\u001b[30m25-08-2018 20:38:19 - AssetPrice:0.00262800-OrderPrice : 0.00262680-limitPrice:0.00260172\u001b[0m\n",
      "\u001b[30m25-08-2018 20:39:20 - current close : 0.00263800 - nb active Buy : 1 - nb active Sell 2 - nb completed Buy : 3 - nb completed Sell 1\u001b[0m\n",
      "\u001b[30m25-08-2018 20:39:20 - AssetPrice:0.00263800-OrderPrice : 0.00262680-limitPrice:0.00261162\u001b[0m\n",
      "\u001b[30m25-08-2018 20:40:20 - current close : 0.00262700 - nb active Buy : 1 - nb active Sell 2 - nb completed Buy : 3 - nb completed Sell 1\u001b[0m\n",
      "\u001b[30m25-08-2018 20:40:20 - AssetPrice:0.00262700-OrderPrice : 0.00262680-limitPrice:0.00260073\u001b[0m\n"
     ]
    },
    {
     "ename": "KeyboardInterrupt",
     "evalue": "",
     "output_type": "error",
     "traceback": [
      "\u001b[1;31m---------------------------------------------------------------------------\u001b[0m",
      "\u001b[1;31mKeyboardInterrupt\u001b[0m                         Traceback (most recent call last)",
      "\u001b[1;32m<ipython-input-4-52626dae89e2>\u001b[0m in \u001b[0;36m<module>\u001b[1;34m()\u001b[0m\n\u001b[0;32m      1\u001b[0m \u001b[0mengine\u001b[0m\u001b[1;33m.\u001b[0m\u001b[0mreset\u001b[0m\u001b[1;33m(\u001b[0m\u001b[1;33m)\u001b[0m\u001b[1;33m\u001b[0m\u001b[0m\n\u001b[0;32m      2\u001b[0m \u001b[0mToto\u001b[0m \u001b[1;33m=\u001b[0m \u001b[0mMarketMaker\u001b[0m\u001b[1;33m(\u001b[0m \u001b[1;34m\"ICX/ETH\"\u001b[0m\u001b[1;33m,\u001b[0m \u001b[1;36m0.01\u001b[0m\u001b[1;33m,\u001b[0m \u001b[1;36m5\u001b[0m\u001b[1;33m,\u001b[0m \u001b[0mengine\u001b[0m\u001b[1;33m)\u001b[0m\u001b[1;33m\u001b[0m\u001b[0m\n\u001b[1;32m----> 3\u001b[1;33m \u001b[0mToto\u001b[0m\u001b[1;33m.\u001b[0m\u001b[0mrun\u001b[0m\u001b[1;33m(\u001b[0m\u001b[1;33m)\u001b[0m\u001b[1;33m\u001b[0m\u001b[0m\n\u001b[0m",
      "\u001b[1;32m<ipython-input-2-e9b8bcc8b977>\u001b[0m in \u001b[0;36mrun\u001b[1;34m(self)\u001b[0m\n\u001b[0;32m    126\u001b[0m             \u001b[1;32mif\u001b[0m \u001b[0mself\u001b[0m\u001b[1;33m.\u001b[0m\u001b[0mengine\u001b[0m\u001b[1;33m.\u001b[0m\u001b[0mshouldSleep\u001b[0m\u001b[1;33m(\u001b[0m\u001b[1;33m)\u001b[0m\u001b[1;33m:\u001b[0m\u001b[1;33m\u001b[0m\u001b[0m\n\u001b[0;32m    127\u001b[0m                 \u001b[1;32mfor\u001b[0m \u001b[0mi\u001b[0m \u001b[1;32min\u001b[0m \u001b[0mrange\u001b[0m\u001b[1;33m(\u001b[0m\u001b[1;36m60\u001b[0m\u001b[1;33m)\u001b[0m\u001b[1;33m:\u001b[0m    \u001b[1;31m# Sleep divided to have quicker keyboard interruptions\u001b[0m\u001b[1;33m\u001b[0m\u001b[0m\n\u001b[1;32m--> 128\u001b[1;33m                     \u001b[0mtime\u001b[0m\u001b[1;33m.\u001b[0m\u001b[0msleep\u001b[0m\u001b[1;33m(\u001b[0m\u001b[1;36m1\u001b[0m\u001b[1;33m)\u001b[0m\u001b[1;33m\u001b[0m\u001b[0m\n\u001b[0m",
      "\u001b[1;31mKeyboardInterrupt\u001b[0m: "
     ]
    }
   ],
   "source": [
    "engine.reset()\n",
    "Toto = MarketMaker( \"ICX/ETH\", 0.01, 5, engine)\n",
    "Toto.run()"
   ]
  }
 ],
 "metadata": {
  "kernelspec": {
   "display_name": "Python [conda env:backtrader]",
   "language": "python",
   "name": "conda-env-backtrader-py"
  },
  "language_info": {
   "codemirror_mode": {
    "name": "ipython",
    "version": 3
   },
   "file_extension": ".py",
   "mimetype": "text/x-python",
   "name": "python",
   "nbconvert_exporter": "python",
   "pygments_lexer": "ipython3",
   "version": "3.6.6"
  }
 },
 "nbformat": 4,
 "nbformat_minor": 2
}
